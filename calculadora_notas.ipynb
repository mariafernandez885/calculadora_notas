{
 "cells": [
  {
   "cell_type": "code",
   "execution_count": 1,
   "id": "3ad68e30-29bf-40b3-9858-515cea629cfa",
   "metadata": {},
   "outputs": [
    {
     "name": "stdout",
     "output_type": "stream",
     "text": [
      "Promedio de las puntuaciones: 86.6\n",
      "Puntuación máxima: 92\n",
      "Total de las puntuaciones: 433\n"
     ]
    }
   ],
   "source": [
    "# Lista de puntuaciones\n",
    "puntuaciones = [85, 90, 78, 92, 88]\n",
    "def calcular_promedio_puntuaciones(lista):\n",
    "    suma = 0\n",
    "    for puntuacion in lista:\n",
    "        suma += puntuacion\n",
    "    promedio = suma / len(lista)  \n",
    "    return promedio\n",
    "def calcular_puntuacion_maxima(lista):\n",
    "    maxima = lista[0]  \n",
    "    for puntuacion in lista:\n",
    "        if puntuacion > maxima:\n",
    "            maxima = puntuacion\n",
    "    return maxima\n",
    "def calcular_total_puntuaciones(lista):\n",
    "    total = 0\n",
    "    for puntuacion in lista:\n",
    "        total += puntuacion\n",
    "    return total\n",
    "\n",
    "promedio = calcular_promedio_puntuaciones(puntuaciones)\n",
    "puntuacion_maxima = calcular_puntuacion_maxima(puntuaciones)\n",
    "total_puntuaciones = calcular_total_puntuaciones(puntuaciones)\n",
    "\n",
    "\n",
    "print(\"Promedio de las puntuaciones:\", promedio)\n",
    "print(\"Puntuación máxima:\", puntuacion_maxima)\n",
    "print(\"Total de las puntuaciones:\", total_puntuaciones)\n"
   ]
  },
  {
   "cell_type": "code",
   "execution_count": null,
   "id": "9649afa4-b733-494a-a0b5-d36a52d0b6c4",
   "metadata": {},
   "outputs": [],
   "source": []
  }
 ],
 "metadata": {
  "kernelspec": {
   "display_name": "Python 3 (ipykernel)",
   "language": "python",
   "name": "python3"
  },
  "language_info": {
   "codemirror_mode": {
    "name": "ipython",
    "version": 3
   },
   "file_extension": ".py",
   "mimetype": "text/x-python",
   "name": "python",
   "nbconvert_exporter": "python",
   "pygments_lexer": "ipython3",
   "version": "3.11.7"
  }
 },
 "nbformat": 4,
 "nbformat_minor": 5
}
